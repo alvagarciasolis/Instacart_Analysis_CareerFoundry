{
 "cells": [
  {
   "cell_type": "markdown",
   "id": "4f1e9280",
   "metadata": {},
   "source": [
    "# 01. Importing libraries"
   ]
  },
  {
   "cell_type": "code",
   "execution_count": 1,
   "id": "191f41f2",
   "metadata": {},
   "outputs": [],
   "source": [
    "# import libraries\n",
    "import pandas as pd\n",
    "import numpy as np\n",
    "import os"
   ]
  },
  {
   "cell_type": "markdown",
   "id": "9fcc7ee9",
   "metadata": {},
   "source": [
    "# 02. Working with data types"
   ]
  },
  {
   "cell_type": "code",
   "execution_count": 2,
   "id": "7f0c012d",
   "metadata": {},
   "outputs": [],
   "source": [
    "x = 50"
   ]
  },
  {
   "cell_type": "code",
   "execution_count": 3,
   "id": "09433108",
   "metadata": {},
   "outputs": [],
   "source": [
    "y = 30"
   ]
  },
  {
   "cell_type": "code",
   "execution_count": 4,
   "id": "77269c1a",
   "metadata": {},
   "outputs": [],
   "source": [
    "z = 25"
   ]
  },
  {
   "cell_type": "code",
   "execution_count": 5,
   "id": "8e44e451",
   "metadata": {},
   "outputs": [
    {
     "data": {
      "text/plain": [
       "100"
      ]
     },
     "execution_count": 5,
     "metadata": {},
     "output_type": "execute_result"
    }
   ],
   "source": [
    "x *2"
   ]
  },
  {
   "cell_type": "code",
   "execution_count": 6,
   "id": "dcfac966",
   "metadata": {},
   "outputs": [
    {
     "data": {
      "text/plain": [
       "100"
      ]
     },
     "execution_count": 6,
     "metadata": {},
     "output_type": "execute_result"
    }
   ],
   "source": [
    "x + y + z - 5"
   ]
  },
  {
   "cell_type": "code",
   "execution_count": 7,
   "id": "1199634c",
   "metadata": {},
   "outputs": [
    {
     "data": {
      "text/plain": [
       "100.0"
      ]
     },
     "execution_count": 7,
     "metadata": {},
     "output_type": "execute_result"
    }
   ],
   "source": [
    "(y+z)*2 - (x/5)"
   ]
  },
  {
   "cell_type": "code",
   "execution_count": 8,
   "id": "dca5abcb",
   "metadata": {},
   "outputs": [],
   "source": [
    "x2= 45.60"
   ]
  },
  {
   "cell_type": "code",
   "execution_count": 9,
   "id": "a1b7feec",
   "metadata": {},
   "outputs": [],
   "source": [
    "x3 = 3.2"
   ]
  },
  {
   "cell_type": "code",
   "execution_count": 11,
   "id": "a1010e7a",
   "metadata": {},
   "outputs": [
    {
     "data": {
      "text/plain": [
       "14.25"
      ]
     },
     "execution_count": 11,
     "metadata": {},
     "output_type": "execute_result"
    }
   ],
   "source": [
    "x2/x3 "
   ]
  },
  {
   "cell_type": "code",
   "execution_count": 12,
   "id": "78803a01",
   "metadata": {},
   "outputs": [],
   "source": [
    "a='funda'"
   ]
  },
  {
   "cell_type": "code",
   "execution_count": 13,
   "id": "cb6547af",
   "metadata": {},
   "outputs": [],
   "source": [
    "b='mentos'"
   ]
  },
  {
   "cell_type": "code",
   "execution_count": 14,
   "id": "1fbd3818",
   "metadata": {},
   "outputs": [
    {
     "data": {
      "text/plain": [
       "'fundamentos'"
      ]
     },
     "execution_count": 14,
     "metadata": {},
     "output_type": "execute_result"
    }
   ],
   "source": [
    "a+b"
   ]
  },
  {
   "cell_type": "code",
   "execution_count": 16,
   "id": "6ef75aef",
   "metadata": {},
   "outputs": [],
   "source": [
    "c= 'It´s sunday,'"
   ]
  },
  {
   "cell_type": "code",
   "execution_count": 17,
   "id": "19373906",
   "metadata": {},
   "outputs": [],
   "source": [
    "d= 'it´s a sunny day'"
   ]
  },
  {
   "cell_type": "code",
   "execution_count": 18,
   "id": "9eba3a4a",
   "metadata": {},
   "outputs": [
    {
     "data": {
      "text/plain": [
       "'It´s sunday,it´s a sunny day'"
      ]
     },
     "execution_count": 18,
     "metadata": {},
     "output_type": "execute_result"
    }
   ],
   "source": [
    "c+d"
   ]
  },
  {
   "cell_type": "code",
   "execution_count": 22,
   "id": "1afb5ca6",
   "metadata": {},
   "outputs": [],
   "source": [
    "e= '100 is equal to '"
   ]
  },
  {
   "cell_type": "code",
   "execution_count": 20,
   "id": "1dc7608a",
   "metadata": {},
   "outputs": [],
   "source": [
    "f= '50 *2'"
   ]
  },
  {
   "cell_type": "code",
   "execution_count": 23,
   "id": "6a31cab3",
   "metadata": {},
   "outputs": [
    {
     "data": {
      "text/plain": [
       "'100 is equal to 50 *2'"
      ]
     },
     "execution_count": 23,
     "metadata": {},
     "output_type": "execute_result"
    }
   ],
   "source": [
    "e+f"
   ]
  }
 ],
 "metadata": {
  "kernelspec": {
   "display_name": "Python 3 (ipykernel)",
   "language": "python",
   "name": "python3"
  },
  "language_info": {
   "codemirror_mode": {
    "name": "ipython",
    "version": 3
   },
   "file_extension": ".py",
   "mimetype": "text/x-python",
   "name": "python",
   "nbconvert_exporter": "python",
   "pygments_lexer": "ipython3",
   "version": "3.9.13"
  }
 },
 "nbformat": 4,
 "nbformat_minor": 5
}
