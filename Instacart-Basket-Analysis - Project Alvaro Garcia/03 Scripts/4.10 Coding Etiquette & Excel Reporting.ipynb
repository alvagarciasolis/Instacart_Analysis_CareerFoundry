{
 "cells": [
  {
   "cell_type": "code",
   "execution_count": 1,
   "id": "0286c704",
   "metadata": {},
   "outputs": [],
   "source": [
    "# Import libraries\n",
    "import pandas as pd\n",
    "import numpy as np\n",
    "import os\n",
    "import matplotlib.pyplot as plt\n",
    "import seaborn as sns\n",
    "import scipy"
   ]
  },
  {
   "cell_type": "code",
   "execution_count": 2,
   "id": "1465469d",
   "metadata": {},
   "outputs": [],
   "source": [
    "path = r'C:\\Users\\agarcia\\OneDrive - ITURRI S.A\\AGS\\Data Analytics Careerfoundy\\11-2022 Instacart Grocery Basket Analysis\\02 Data'"
   ]
  },
  {
   "cell_type": "code",
   "execution_count": 4,
   "id": "9014007c",
   "metadata": {},
   "outputs": [],
   "source": [
    "# Import the data set you exported in Exercise 4.9 into a new Jupyter notebook. \n",
    "# This should be the merged version of your data that contains the new customers column."
   ]
  },
  {
   "cell_type": "code",
   "execution_count": 3,
   "id": "346ec79b",
   "metadata": {},
   "outputs": [],
   "source": [
    "ords_prods_cust = pd.read_pickle(os.path.join(path, 'Prepared data', 'ords_prods_customers_4_9a.pkl'))"
   ]
  },
  {
   "cell_type": "code",
   "execution_count": 5,
   "id": "f109ca91",
   "metadata": {},
   "outputs": [],
   "source": [
    "# Consider any security implications that might exist for this new data. \n",
    "# You’ll need to address any PII data in the data before continuing your analysis."
   ]
  },
  {
   "cell_type": "code",
   "execution_count": 6,
   "id": "ef94da61",
   "metadata": {
    "scrolled": true
   },
   "outputs": [
    {
     "data": {
      "text/html": [
       "<div>\n",
       "<style scoped>\n",
       "    .dataframe tbody tr th:only-of-type {\n",
       "        vertical-align: middle;\n",
       "    }\n",
       "\n",
       "    .dataframe tbody tr th {\n",
       "        vertical-align: top;\n",
       "    }\n",
       "\n",
       "    .dataframe thead th {\n",
       "        text-align: right;\n",
       "    }\n",
       "</style>\n",
       "<table border=\"1\" class=\"dataframe\">\n",
       "  <thead>\n",
       "    <tr style=\"text-align: right;\">\n",
       "      <th></th>\n",
       "      <th>order_id</th>\n",
       "      <th>user_id</th>\n",
       "      <th>eval_set</th>\n",
       "      <th>order_number</th>\n",
       "      <th>order_dow</th>\n",
       "      <th>order_hour_of_day</th>\n",
       "      <th>days_since_prior_order</th>\n",
       "      <th>product_id</th>\n",
       "      <th>add_to_cart_order</th>\n",
       "      <th>reordered</th>\n",
       "      <th>...</th>\n",
       "      <th>frequent_customer_flag</th>\n",
       "      <th>first_name</th>\n",
       "      <th>surname</th>\n",
       "      <th>Gender</th>\n",
       "      <th>state</th>\n",
       "      <th>age</th>\n",
       "      <th>date_joined</th>\n",
       "      <th>n_dependants</th>\n",
       "      <th>fam_status</th>\n",
       "      <th>income</th>\n",
       "    </tr>\n",
       "  </thead>\n",
       "  <tbody>\n",
       "    <tr>\n",
       "      <th>0</th>\n",
       "      <td>2539329</td>\n",
       "      <td>1</td>\n",
       "      <td>prior</td>\n",
       "      <td>1</td>\n",
       "      <td>2</td>\n",
       "      <td>8</td>\n",
       "      <td>NaN</td>\n",
       "      <td>196</td>\n",
       "      <td>1</td>\n",
       "      <td>0</td>\n",
       "      <td>...</td>\n",
       "      <td>Non-frequent customer</td>\n",
       "      <td>Linda</td>\n",
       "      <td>Nguyen</td>\n",
       "      <td>Female</td>\n",
       "      <td>Alabama</td>\n",
       "      <td>31</td>\n",
       "      <td>2/17/2019</td>\n",
       "      <td>3</td>\n",
       "      <td>married</td>\n",
       "      <td>40423</td>\n",
       "    </tr>\n",
       "    <tr>\n",
       "      <th>1</th>\n",
       "      <td>2398795</td>\n",
       "      <td>1</td>\n",
       "      <td>prior</td>\n",
       "      <td>2</td>\n",
       "      <td>3</td>\n",
       "      <td>7</td>\n",
       "      <td>15.0</td>\n",
       "      <td>196</td>\n",
       "      <td>1</td>\n",
       "      <td>1</td>\n",
       "      <td>...</td>\n",
       "      <td>Non-frequent customer</td>\n",
       "      <td>Linda</td>\n",
       "      <td>Nguyen</td>\n",
       "      <td>Female</td>\n",
       "      <td>Alabama</td>\n",
       "      <td>31</td>\n",
       "      <td>2/17/2019</td>\n",
       "      <td>3</td>\n",
       "      <td>married</td>\n",
       "      <td>40423</td>\n",
       "    </tr>\n",
       "    <tr>\n",
       "      <th>2</th>\n",
       "      <td>473747</td>\n",
       "      <td>1</td>\n",
       "      <td>prior</td>\n",
       "      <td>3</td>\n",
       "      <td>3</td>\n",
       "      <td>12</td>\n",
       "      <td>21.0</td>\n",
       "      <td>196</td>\n",
       "      <td>1</td>\n",
       "      <td>1</td>\n",
       "      <td>...</td>\n",
       "      <td>Non-frequent customer</td>\n",
       "      <td>Linda</td>\n",
       "      <td>Nguyen</td>\n",
       "      <td>Female</td>\n",
       "      <td>Alabama</td>\n",
       "      <td>31</td>\n",
       "      <td>2/17/2019</td>\n",
       "      <td>3</td>\n",
       "      <td>married</td>\n",
       "      <td>40423</td>\n",
       "    </tr>\n",
       "  </tbody>\n",
       "</table>\n",
       "<p>3 rows × 34 columns</p>\n",
       "</div>"
      ],
      "text/plain": [
       "   order_id  user_id eval_set  order_number  order_dow  order_hour_of_day  \\\n",
       "0   2539329        1    prior             1          2                  8   \n",
       "1   2398795        1    prior             2          3                  7   \n",
       "2    473747        1    prior             3          3                 12   \n",
       "\n",
       "   days_since_prior_order  product_id  add_to_cart_order  reordered  ...  \\\n",
       "0                     NaN         196                  1          0  ...   \n",
       "1                    15.0         196                  1          1  ...   \n",
       "2                    21.0         196                  1          1  ...   \n",
       "\n",
       "   frequent_customer_flag first_name  surname  Gender    state age  \\\n",
       "0   Non-frequent customer      Linda   Nguyen  Female  Alabama  31   \n",
       "1   Non-frequent customer      Linda   Nguyen  Female  Alabama  31   \n",
       "2   Non-frequent customer      Linda   Nguyen  Female  Alabama  31   \n",
       "\n",
       "  date_joined n_dependants fam_status  income  \n",
       "0   2/17/2019            3    married   40423  \n",
       "1   2/17/2019            3    married   40423  \n",
       "2   2/17/2019            3    married   40423  \n",
       "\n",
       "[3 rows x 34 columns]"
      ]
     },
     "execution_count": 6,
     "metadata": {},
     "output_type": "execute_result"
    }
   ],
   "source": [
    "ords_prods_cust.head(3)"
   ]
  },
  {
   "cell_type": "code",
   "execution_count": 7,
   "id": "c608bfb8",
   "metadata": {},
   "outputs": [],
   "source": [
    "# We have the names/surnames and State on the data. This might not fulfill the PII conditions "
   ]
  },
  {
   "cell_type": "code",
   "execution_count": 8,
   "id": "3088d566",
   "metadata": {},
   "outputs": [],
   "source": [
    "# The Instacart officers are interested in comparing customer behavior in different geographic areas. Create a regional segmentation of the data. \n",
    "# You’ll need to create a “Region” column based on the “State” column from your customers data set."
   ]
  },
  {
   "cell_type": "code",
   "execution_count": 9,
   "id": "5023dbfe",
   "metadata": {},
   "outputs": [],
   "source": [
    "# Use the region information in this Wikipedia article to create your column (you only need to create regions, not divisions)."
   ]
  },
  {
   "cell_type": "code",
   "execution_count": 10,
   "id": "0c4b8607",
   "metadata": {},
   "outputs": [],
   "source": [
    "\n",
    "northeast=['Maine','New Hampshire','Vermont','Massachusetts','Rhode Island','Connecticut','New York','Pennsylvania','New Jersey']\n",
    "midwest=['Wisconsin','Michigan','Illinois','Indiana','Ohio','North Dakota','South Dakota','Nebraska','Kansas','Minnesota','Iowa','Missouri']\n",
    "south=['Delaware','Maryland','District of Columbia','Virginia','West Virginia','North Carolina','South Carolina','Georgia','Florida','Kentucky','Tennessee','Mississippi','Alabama','Oklahoma','Texas','Arkansas','Louisiana']\n",
    "west=['Idaho','Montana','Wyoming','Nevada','Utah','Colorado','Arizona','New Mexico','Alaska','Washington','Oregon','California','Hawaii']"
   ]
  },
  {
   "cell_type": "code",
   "execution_count": 11,
   "id": "3db28df2",
   "metadata": {},
   "outputs": [],
   "source": [
    "# list / loop \n",
    "\n",
    "result=[]\n",
    "\n",
    "for value in ords_prods_cust['state']:\n",
    "    if value in northeast:\n",
    "        result.append('Northeast')\n",
    "    elif value in midwest:\n",
    "        result.append('Midwest')\n",
    "    elif value in south:\n",
    "        result.append('South')\n",
    "    elif value in west:\n",
    "        result.append('West')"
   ]
  },
  {
   "cell_type": "code",
   "execution_count": 12,
   "id": "2f2f9ef7",
   "metadata": {},
   "outputs": [],
   "source": [
    "ords_prods_cust['regions']=result"
   ]
  },
  {
   "cell_type": "code",
   "execution_count": 13,
   "id": "338b21ed",
   "metadata": {},
   "outputs": [
    {
     "data": {
      "text/plain": [
       "(32404859, 35)"
      ]
     },
     "execution_count": 13,
     "metadata": {},
     "output_type": "execute_result"
    }
   ],
   "source": [
    "ords_prods_cust.shape"
   ]
  },
  {
   "cell_type": "code",
   "execution_count": 14,
   "id": "0c6e77fe",
   "metadata": {
    "scrolled": true
   },
   "outputs": [
    {
     "data": {
      "text/html": [
       "<div>\n",
       "<style scoped>\n",
       "    .dataframe tbody tr th:only-of-type {\n",
       "        vertical-align: middle;\n",
       "    }\n",
       "\n",
       "    .dataframe tbody tr th {\n",
       "        vertical-align: top;\n",
       "    }\n",
       "\n",
       "    .dataframe thead th {\n",
       "        text-align: right;\n",
       "    }\n",
       "</style>\n",
       "<table border=\"1\" class=\"dataframe\">\n",
       "  <thead>\n",
       "    <tr style=\"text-align: right;\">\n",
       "      <th></th>\n",
       "      <th>order_id</th>\n",
       "      <th>user_id</th>\n",
       "      <th>eval_set</th>\n",
       "      <th>order_number</th>\n",
       "      <th>order_dow</th>\n",
       "      <th>order_hour_of_day</th>\n",
       "      <th>days_since_prior_order</th>\n",
       "      <th>product_id</th>\n",
       "      <th>add_to_cart_order</th>\n",
       "      <th>reordered</th>\n",
       "      <th>...</th>\n",
       "      <th>first_name</th>\n",
       "      <th>surname</th>\n",
       "      <th>Gender</th>\n",
       "      <th>state</th>\n",
       "      <th>age</th>\n",
       "      <th>date_joined</th>\n",
       "      <th>n_dependants</th>\n",
       "      <th>fam_status</th>\n",
       "      <th>income</th>\n",
       "      <th>regions</th>\n",
       "    </tr>\n",
       "  </thead>\n",
       "  <tbody>\n",
       "    <tr>\n",
       "      <th>0</th>\n",
       "      <td>2539329</td>\n",
       "      <td>1</td>\n",
       "      <td>prior</td>\n",
       "      <td>1</td>\n",
       "      <td>2</td>\n",
       "      <td>8</td>\n",
       "      <td>NaN</td>\n",
       "      <td>196</td>\n",
       "      <td>1</td>\n",
       "      <td>0</td>\n",
       "      <td>...</td>\n",
       "      <td>Linda</td>\n",
       "      <td>Nguyen</td>\n",
       "      <td>Female</td>\n",
       "      <td>Alabama</td>\n",
       "      <td>31</td>\n",
       "      <td>2/17/2019</td>\n",
       "      <td>3</td>\n",
       "      <td>married</td>\n",
       "      <td>40423</td>\n",
       "      <td>South</td>\n",
       "    </tr>\n",
       "    <tr>\n",
       "      <th>1</th>\n",
       "      <td>2398795</td>\n",
       "      <td>1</td>\n",
       "      <td>prior</td>\n",
       "      <td>2</td>\n",
       "      <td>3</td>\n",
       "      <td>7</td>\n",
       "      <td>15.0</td>\n",
       "      <td>196</td>\n",
       "      <td>1</td>\n",
       "      <td>1</td>\n",
       "      <td>...</td>\n",
       "      <td>Linda</td>\n",
       "      <td>Nguyen</td>\n",
       "      <td>Female</td>\n",
       "      <td>Alabama</td>\n",
       "      <td>31</td>\n",
       "      <td>2/17/2019</td>\n",
       "      <td>3</td>\n",
       "      <td>married</td>\n",
       "      <td>40423</td>\n",
       "      <td>South</td>\n",
       "    </tr>\n",
       "    <tr>\n",
       "      <th>2</th>\n",
       "      <td>473747</td>\n",
       "      <td>1</td>\n",
       "      <td>prior</td>\n",
       "      <td>3</td>\n",
       "      <td>3</td>\n",
       "      <td>12</td>\n",
       "      <td>21.0</td>\n",
       "      <td>196</td>\n",
       "      <td>1</td>\n",
       "      <td>1</td>\n",
       "      <td>...</td>\n",
       "      <td>Linda</td>\n",
       "      <td>Nguyen</td>\n",
       "      <td>Female</td>\n",
       "      <td>Alabama</td>\n",
       "      <td>31</td>\n",
       "      <td>2/17/2019</td>\n",
       "      <td>3</td>\n",
       "      <td>married</td>\n",
       "      <td>40423</td>\n",
       "      <td>South</td>\n",
       "    </tr>\n",
       "    <tr>\n",
       "      <th>3</th>\n",
       "      <td>2254736</td>\n",
       "      <td>1</td>\n",
       "      <td>prior</td>\n",
       "      <td>4</td>\n",
       "      <td>4</td>\n",
       "      <td>7</td>\n",
       "      <td>29.0</td>\n",
       "      <td>196</td>\n",
       "      <td>1</td>\n",
       "      <td>1</td>\n",
       "      <td>...</td>\n",
       "      <td>Linda</td>\n",
       "      <td>Nguyen</td>\n",
       "      <td>Female</td>\n",
       "      <td>Alabama</td>\n",
       "      <td>31</td>\n",
       "      <td>2/17/2019</td>\n",
       "      <td>3</td>\n",
       "      <td>married</td>\n",
       "      <td>40423</td>\n",
       "      <td>South</td>\n",
       "    </tr>\n",
       "    <tr>\n",
       "      <th>4</th>\n",
       "      <td>431534</td>\n",
       "      <td>1</td>\n",
       "      <td>prior</td>\n",
       "      <td>5</td>\n",
       "      <td>4</td>\n",
       "      <td>15</td>\n",
       "      <td>28.0</td>\n",
       "      <td>196</td>\n",
       "      <td>1</td>\n",
       "      <td>1</td>\n",
       "      <td>...</td>\n",
       "      <td>Linda</td>\n",
       "      <td>Nguyen</td>\n",
       "      <td>Female</td>\n",
       "      <td>Alabama</td>\n",
       "      <td>31</td>\n",
       "      <td>2/17/2019</td>\n",
       "      <td>3</td>\n",
       "      <td>married</td>\n",
       "      <td>40423</td>\n",
       "      <td>South</td>\n",
       "    </tr>\n",
       "    <tr>\n",
       "      <th>5</th>\n",
       "      <td>3367565</td>\n",
       "      <td>1</td>\n",
       "      <td>prior</td>\n",
       "      <td>6</td>\n",
       "      <td>2</td>\n",
       "      <td>7</td>\n",
       "      <td>19.0</td>\n",
       "      <td>196</td>\n",
       "      <td>1</td>\n",
       "      <td>1</td>\n",
       "      <td>...</td>\n",
       "      <td>Linda</td>\n",
       "      <td>Nguyen</td>\n",
       "      <td>Female</td>\n",
       "      <td>Alabama</td>\n",
       "      <td>31</td>\n",
       "      <td>2/17/2019</td>\n",
       "      <td>3</td>\n",
       "      <td>married</td>\n",
       "      <td>40423</td>\n",
       "      <td>South</td>\n",
       "    </tr>\n",
       "    <tr>\n",
       "      <th>6</th>\n",
       "      <td>550135</td>\n",
       "      <td>1</td>\n",
       "      <td>prior</td>\n",
       "      <td>7</td>\n",
       "      <td>1</td>\n",
       "      <td>9</td>\n",
       "      <td>20.0</td>\n",
       "      <td>196</td>\n",
       "      <td>1</td>\n",
       "      <td>1</td>\n",
       "      <td>...</td>\n",
       "      <td>Linda</td>\n",
       "      <td>Nguyen</td>\n",
       "      <td>Female</td>\n",
       "      <td>Alabama</td>\n",
       "      <td>31</td>\n",
       "      <td>2/17/2019</td>\n",
       "      <td>3</td>\n",
       "      <td>married</td>\n",
       "      <td>40423</td>\n",
       "      <td>South</td>\n",
       "    </tr>\n",
       "    <tr>\n",
       "      <th>7</th>\n",
       "      <td>3108588</td>\n",
       "      <td>1</td>\n",
       "      <td>prior</td>\n",
       "      <td>8</td>\n",
       "      <td>1</td>\n",
       "      <td>14</td>\n",
       "      <td>14.0</td>\n",
       "      <td>196</td>\n",
       "      <td>2</td>\n",
       "      <td>1</td>\n",
       "      <td>...</td>\n",
       "      <td>Linda</td>\n",
       "      <td>Nguyen</td>\n",
       "      <td>Female</td>\n",
       "      <td>Alabama</td>\n",
       "      <td>31</td>\n",
       "      <td>2/17/2019</td>\n",
       "      <td>3</td>\n",
       "      <td>married</td>\n",
       "      <td>40423</td>\n",
       "      <td>South</td>\n",
       "    </tr>\n",
       "    <tr>\n",
       "      <th>8</th>\n",
       "      <td>2295261</td>\n",
       "      <td>1</td>\n",
       "      <td>prior</td>\n",
       "      <td>9</td>\n",
       "      <td>1</td>\n",
       "      <td>16</td>\n",
       "      <td>0.0</td>\n",
       "      <td>196</td>\n",
       "      <td>4</td>\n",
       "      <td>1</td>\n",
       "      <td>...</td>\n",
       "      <td>Linda</td>\n",
       "      <td>Nguyen</td>\n",
       "      <td>Female</td>\n",
       "      <td>Alabama</td>\n",
       "      <td>31</td>\n",
       "      <td>2/17/2019</td>\n",
       "      <td>3</td>\n",
       "      <td>married</td>\n",
       "      <td>40423</td>\n",
       "      <td>South</td>\n",
       "    </tr>\n",
       "    <tr>\n",
       "      <th>9</th>\n",
       "      <td>2550362</td>\n",
       "      <td>1</td>\n",
       "      <td>prior</td>\n",
       "      <td>10</td>\n",
       "      <td>4</td>\n",
       "      <td>8</td>\n",
       "      <td>30.0</td>\n",
       "      <td>196</td>\n",
       "      <td>1</td>\n",
       "      <td>1</td>\n",
       "      <td>...</td>\n",
       "      <td>Linda</td>\n",
       "      <td>Nguyen</td>\n",
       "      <td>Female</td>\n",
       "      <td>Alabama</td>\n",
       "      <td>31</td>\n",
       "      <td>2/17/2019</td>\n",
       "      <td>3</td>\n",
       "      <td>married</td>\n",
       "      <td>40423</td>\n",
       "      <td>South</td>\n",
       "    </tr>\n",
       "  </tbody>\n",
       "</table>\n",
       "<p>10 rows × 35 columns</p>\n",
       "</div>"
      ],
      "text/plain": [
       "   order_id  user_id eval_set  order_number  order_dow  order_hour_of_day  \\\n",
       "0   2539329        1    prior             1          2                  8   \n",
       "1   2398795        1    prior             2          3                  7   \n",
       "2    473747        1    prior             3          3                 12   \n",
       "3   2254736        1    prior             4          4                  7   \n",
       "4    431534        1    prior             5          4                 15   \n",
       "5   3367565        1    prior             6          2                  7   \n",
       "6    550135        1    prior             7          1                  9   \n",
       "7   3108588        1    prior             8          1                 14   \n",
       "8   2295261        1    prior             9          1                 16   \n",
       "9   2550362        1    prior            10          4                  8   \n",
       "\n",
       "   days_since_prior_order  product_id  add_to_cart_order  reordered  ...  \\\n",
       "0                     NaN         196                  1          0  ...   \n",
       "1                    15.0         196                  1          1  ...   \n",
       "2                    21.0         196                  1          1  ...   \n",
       "3                    29.0         196                  1          1  ...   \n",
       "4                    28.0         196                  1          1  ...   \n",
       "5                    19.0         196                  1          1  ...   \n",
       "6                    20.0         196                  1          1  ...   \n",
       "7                    14.0         196                  2          1  ...   \n",
       "8                     0.0         196                  4          1  ...   \n",
       "9                    30.0         196                  1          1  ...   \n",
       "\n",
       "   first_name surname  Gender    state  age date_joined n_dependants  \\\n",
       "0       Linda  Nguyen  Female  Alabama   31   2/17/2019            3   \n",
       "1       Linda  Nguyen  Female  Alabama   31   2/17/2019            3   \n",
       "2       Linda  Nguyen  Female  Alabama   31   2/17/2019            3   \n",
       "3       Linda  Nguyen  Female  Alabama   31   2/17/2019            3   \n",
       "4       Linda  Nguyen  Female  Alabama   31   2/17/2019            3   \n",
       "5       Linda  Nguyen  Female  Alabama   31   2/17/2019            3   \n",
       "6       Linda  Nguyen  Female  Alabama   31   2/17/2019            3   \n",
       "7       Linda  Nguyen  Female  Alabama   31   2/17/2019            3   \n",
       "8       Linda  Nguyen  Female  Alabama   31   2/17/2019            3   \n",
       "9       Linda  Nguyen  Female  Alabama   31   2/17/2019            3   \n",
       "\n",
       "  fam_status income  regions  \n",
       "0    married  40423    South  \n",
       "1    married  40423    South  \n",
       "2    married  40423    South  \n",
       "3    married  40423    South  \n",
       "4    married  40423    South  \n",
       "5    married  40423    South  \n",
       "6    married  40423    South  \n",
       "7    married  40423    South  \n",
       "8    married  40423    South  \n",
       "9    married  40423    South  \n",
       "\n",
       "[10 rows x 35 columns]"
      ]
     },
     "execution_count": 14,
     "metadata": {},
     "output_type": "execute_result"
    }
   ],
   "source": [
    "ords_prods_cust.head(10)"
   ]
  },
  {
   "cell_type": "code",
   "execution_count": 36,
   "id": "ceffa3a2",
   "metadata": {},
   "outputs": [
    {
     "data": {
      "text/plain": [
       "Index(['order_id', 'user_id', 'eval_set', 'order_number', 'order_dow',\n",
       "       'order_hour_of_day', 'days_since_prior_order', 'product_id',\n",
       "       'add_to_cart_order', 'reordered', 'Unnamed: 0', 'product_name',\n",
       "       'aisle_id', 'department_id', 'prices', '_merge', 'price_range_loc',\n",
       "       'busiest_days', 'busiest_period_of_day', 'max_order', 'loyalty_flag',\n",
       "       'mean_price', 'spending_flag', 'median_days_spo',\n",
       "       'frequent_customer_flag', 'first_name', 'surname', 'Gender', 'state',\n",
       "       'age', 'date_joined', 'n_dependants', 'fam_status', 'income', 'regions',\n",
       "       'activity'],\n",
       "      dtype='object')"
      ]
     },
     "execution_count": 36,
     "metadata": {},
     "output_type": "execute_result"
    }
   ],
   "source": [
    "ords_prods_cust.columns"
   ]
  },
  {
   "cell_type": "code",
   "execution_count": 15,
   "id": "9f708c51",
   "metadata": {},
   "outputs": [],
   "source": [
    "# Determine whether there’s a difference in spending habits between the different U.S. regions. \n",
    "# (Hint: You can do this by crossing the variable you just created with the spending flag.)"
   ]
  },
  {
   "cell_type": "code",
   "execution_count": 17,
   "id": "742713d9",
   "metadata": {},
   "outputs": [],
   "source": [
    "# crosstab\n",
    "crosstab = pd.crosstab(ords_prods_cust['regions'], ords_prods_cust['spending_flag'], dropna = False)"
   ]
  },
  {
   "cell_type": "code",
   "execution_count": 18,
   "id": "dab2ac0e",
   "metadata": {
    "scrolled": true
   },
   "outputs": [
    {
     "data": {
      "text/html": [
       "<div>\n",
       "<style scoped>\n",
       "    .dataframe tbody tr th:only-of-type {\n",
       "        vertical-align: middle;\n",
       "    }\n",
       "\n",
       "    .dataframe tbody tr th {\n",
       "        vertical-align: top;\n",
       "    }\n",
       "\n",
       "    .dataframe thead th {\n",
       "        text-align: right;\n",
       "    }\n",
       "</style>\n",
       "<table border=\"1\" class=\"dataframe\">\n",
       "  <thead>\n",
       "    <tr style=\"text-align: right;\">\n",
       "      <th>spending_flag</th>\n",
       "      <th>High spender</th>\n",
       "      <th>Low spender</th>\n",
       "    </tr>\n",
       "    <tr>\n",
       "      <th>regions</th>\n",
       "      <th></th>\n",
       "      <th></th>\n",
       "    </tr>\n",
       "  </thead>\n",
       "  <tbody>\n",
       "    <tr>\n",
       "      <th>Midwest</th>\n",
       "      <td>29994</td>\n",
       "      <td>7567331</td>\n",
       "    </tr>\n",
       "    <tr>\n",
       "      <th>Northeast</th>\n",
       "      <td>22747</td>\n",
       "      <td>5699989</td>\n",
       "    </tr>\n",
       "    <tr>\n",
       "      <th>South</th>\n",
       "      <td>42800</td>\n",
       "      <td>10749085</td>\n",
       "    </tr>\n",
       "    <tr>\n",
       "      <th>West</th>\n",
       "      <td>32301</td>\n",
       "      <td>8260612</td>\n",
       "    </tr>\n",
       "  </tbody>\n",
       "</table>\n",
       "</div>"
      ],
      "text/plain": [
       "spending_flag  High spender  Low spender\n",
       "regions                                 \n",
       "Midwest               29994      7567331\n",
       "Northeast             22747      5699989\n",
       "South                 42800     10749085\n",
       "West                  32301      8260612"
      ]
     },
     "execution_count": 18,
     "metadata": {},
     "output_type": "execute_result"
    }
   ],
   "source": [
    "crosstab"
   ]
  },
  {
   "cell_type": "code",
   "execution_count": 19,
   "id": "6fbcfba1",
   "metadata": {},
   "outputs": [],
   "source": [
    "# copy to excel\n",
    "crosstab.to_clipboard()"
   ]
  },
  {
   "cell_type": "code",
   "execution_count": 20,
   "id": "49e5b737",
   "metadata": {},
   "outputs": [],
   "source": [
    "# The Instacart CFO isn’t interested in customers who don’t generate much revenue for the app. \n",
    "# Create an exclusion flag for low-activity customers (customers with less than 5 orders) and exclude them from the data. \n",
    "# Make sure you export this sample.\n"
   ]
  },
  {
   "cell_type": "code",
   "execution_count": 22,
   "id": "a0ef86aa",
   "metadata": {},
   "outputs": [],
   "source": [
    "\n",
    "ords_prods_cust.loc[ords_prods_cust['max_order']>=5,'activity']='normal'\n",
    "ords_prods_cust.loc[ords_prods_cust['max_order']<5,'activity']='low'"
   ]
  },
  {
   "cell_type": "code",
   "execution_count": 23,
   "id": "01c82402",
   "metadata": {
    "scrolled": true
   },
   "outputs": [
    {
     "data": {
      "text/plain": [
       "normal    30964564\n",
       "low        1440295\n",
       "Name: activity, dtype: int64"
      ]
     },
     "execution_count": 23,
     "metadata": {},
     "output_type": "execute_result"
    }
   ],
   "source": [
    "ords_prods_cust['activity'].value_counts()"
   ]
  },
  {
   "cell_type": "code",
   "execution_count": 24,
   "id": "1165c6f1",
   "metadata": {
    "scrolled": true
   },
   "outputs": [
    {
     "data": {
      "text/plain": [
       "32404859"
      ]
     },
     "execution_count": 24,
     "metadata": {},
     "output_type": "execute_result"
    }
   ],
   "source": [
    "len(ords_prods_cust['activity'])"
   ]
  },
  {
   "cell_type": "code",
   "execution_count": 27,
   "id": "74fe509d",
   "metadata": {},
   "outputs": [],
   "source": [
    "# Creating a dataframe containing only low activity customers\n",
    "df_low=ords_prods_cust[ords_prods_cust['activity']=='low']"
   ]
  },
  {
   "cell_type": "code",
   "execution_count": 28,
   "id": "68e97680",
   "metadata": {},
   "outputs": [],
   "source": [
    "# Creating a dataframe containing only normal activity customers\n",
    "df_normal=ords_prods_cust[ords_prods_cust['activity']=='normal']"
   ]
  },
  {
   "cell_type": "code",
   "execution_count": 29,
   "id": "13371296",
   "metadata": {},
   "outputs": [
    {
     "data": {
      "text/plain": [
       "(1440295, 36)"
      ]
     },
     "execution_count": 29,
     "metadata": {},
     "output_type": "execute_result"
    }
   ],
   "source": [
    "df_low.shape"
   ]
  },
  {
   "cell_type": "code",
   "execution_count": 30,
   "id": "0ce85690",
   "metadata": {
    "scrolled": true
   },
   "outputs": [
    {
     "data": {
      "text/plain": [
       "(30964564, 36)"
      ]
     },
     "execution_count": 30,
     "metadata": {},
     "output_type": "execute_result"
    }
   ],
   "source": [
    "df_normal.shape"
   ]
  },
  {
   "cell_type": "code",
   "execution_count": 31,
   "id": "c320d26d",
   "metadata": {
    "scrolled": true
   },
   "outputs": [
    {
     "data": {
      "text/plain": [
       "32404859"
      ]
     },
     "execution_count": 31,
     "metadata": {},
     "output_type": "execute_result"
    }
   ],
   "source": [
    "1440295 + 30964564"
   ]
  },
  {
   "cell_type": "code",
   "execution_count": 33,
   "id": "7fa3c48d",
   "metadata": {},
   "outputs": [],
   "source": [
    "# export both df\n",
    "df_low.to_pickle(os.path.join(path,'Prepared Data', 'df_low_4_10.pkl'))\n"
   ]
  },
  {
   "cell_type": "code",
   "execution_count": 34,
   "id": "41778960",
   "metadata": {},
   "outputs": [],
   "source": [
    "df_normal.to_pickle(os.path.join(path,'Prepared Data', 'df_normal_4_10.pkl'))\n"
   ]
  },
  {
   "cell_type": "code",
   "execution_count": 35,
   "id": "49f092c4",
   "metadata": {},
   "outputs": [],
   "source": [
    "# The marketing and business strategy units at Instacart want to create more-relevant marketing strategies for different products and are, thus, \n",
    "# curious about customer profiling in their database. Create a profiling variable based on age, income, certain goods in the “department_id” column, \n",
    "# and number of dependents. You might also use the “orders_day_of_the_week” and “order_hour_of_day” columns if you can think of a way they would impact customer profiles. \n",
    "#(Hint: As an example, try thinking of what characteristics would lead you to the profile “Single adult” or “Young parent.”)"
   ]
  },
  {
   "cell_type": "code",
   "execution_count": 37,
   "id": "9f8b016c",
   "metadata": {},
   "outputs": [],
   "source": [
    "# Create a profiling variable based on age, income, certain goods in the “department_id” column, and number of dependents"
   ]
  },
  {
   "cell_type": "code",
   "execution_count": 38,
   "id": "b000087d",
   "metadata": {},
   "outputs": [],
   "source": [
    "# remembering values for this columns"
   ]
  },
  {
   "cell_type": "code",
   "execution_count": 43,
   "id": "00a8d94c",
   "metadata": {},
   "outputs": [],
   "source": [
    "column_values_age = ords_prods_cust['age'].unique()"
   ]
  },
  {
   "cell_type": "code",
   "execution_count": 44,
   "id": "473c4eac",
   "metadata": {
    "scrolled": true
   },
   "outputs": [
    {
     "data": {
      "text/plain": [
       "array([31, 69, 62, 71, 38, 41, 64, 66, 49, 60, 30, 67, 54, 51, 50, 76, 24,\n",
       "       70, 46, 26, 22, 75, 61, 27, 58, 63, 42, 81, 28, 78, 32, 37, 77, 55,\n",
       "       52, 39, 18, 56, 21, 34, 79, 73, 19, 23, 68, 44, 80, 57, 40, 29, 45,\n",
       "       20, 53, 25, 33, 65, 36, 59, 43, 74, 47, 72, 35, 48], dtype=int64)"
      ]
     },
     "execution_count": 44,
     "metadata": {},
     "output_type": "execute_result"
    }
   ],
   "source": [
    "column_values_age"
   ]
  },
  {
   "cell_type": "code",
   "execution_count": 45,
   "id": "bdce67bc",
   "metadata": {},
   "outputs": [],
   "source": [
    "column_values_income = ords_prods_cust['income'].unique()"
   ]
  },
  {
   "cell_type": "code",
   "execution_count": 46,
   "id": "34017027",
   "metadata": {
    "scrolled": true
   },
   "outputs": [
    {
     "data": {
      "text/plain": [
       "array([ 40423,  54313, 151988, ...,  85887, 103023,  41766], dtype=int64)"
      ]
     },
     "execution_count": 46,
     "metadata": {},
     "output_type": "execute_result"
    }
   ],
   "source": [
    "column_values_income"
   ]
  },
  {
   "cell_type": "code",
   "execution_count": 47,
   "id": "f92becf2",
   "metadata": {},
   "outputs": [],
   "source": [
    "column_values_dpt = ords_prods_cust['department_id'].unique()"
   ]
  },
  {
   "cell_type": "code",
   "execution_count": 48,
   "id": "d8a8728a",
   "metadata": {
    "scrolled": true
   },
   "outputs": [
    {
     "data": {
      "text/plain": [
       "array([ 7, 16, 19, 17,  4, 14, 13,  3,  1,  9, 15, 11, 12, 20,  6,  5, 21,\n",
       "        8, 18,  2, 10], dtype=int64)"
      ]
     },
     "execution_count": 48,
     "metadata": {},
     "output_type": "execute_result"
    }
   ],
   "source": [
    "column_values_dpt"
   ]
  },
  {
   "cell_type": "code",
   "execution_count": 53,
   "id": "e8a17fbf",
   "metadata": {},
   "outputs": [],
   "source": [
    "departments = pd.read_csv(os.path.join(path, 'Original data', 'departments_wrangled.csv'))"
   ]
  },
  {
   "cell_type": "code",
   "execution_count": 55,
   "id": "07f8c52e",
   "metadata": {
    "scrolled": true
   },
   "outputs": [
    {
     "data": {
      "text/html": [
       "<div>\n",
       "<style scoped>\n",
       "    .dataframe tbody tr th:only-of-type {\n",
       "        vertical-align: middle;\n",
       "    }\n",
       "\n",
       "    .dataframe tbody tr th {\n",
       "        vertical-align: top;\n",
       "    }\n",
       "\n",
       "    .dataframe thead th {\n",
       "        text-align: right;\n",
       "    }\n",
       "</style>\n",
       "<table border=\"1\" class=\"dataframe\">\n",
       "  <thead>\n",
       "    <tr style=\"text-align: right;\">\n",
       "      <th></th>\n",
       "      <th>Unnamed: 0</th>\n",
       "      <th>department</th>\n",
       "    </tr>\n",
       "  </thead>\n",
       "  <tbody>\n",
       "    <tr>\n",
       "      <th>0</th>\n",
       "      <td>1</td>\n",
       "      <td>frozen</td>\n",
       "    </tr>\n",
       "    <tr>\n",
       "      <th>1</th>\n",
       "      <td>2</td>\n",
       "      <td>other</td>\n",
       "    </tr>\n",
       "    <tr>\n",
       "      <th>2</th>\n",
       "      <td>3</td>\n",
       "      <td>bakery</td>\n",
       "    </tr>\n",
       "    <tr>\n",
       "      <th>3</th>\n",
       "      <td>4</td>\n",
       "      <td>produce</td>\n",
       "    </tr>\n",
       "    <tr>\n",
       "      <th>4</th>\n",
       "      <td>5</td>\n",
       "      <td>alcohol</td>\n",
       "    </tr>\n",
       "    <tr>\n",
       "      <th>5</th>\n",
       "      <td>6</td>\n",
       "      <td>international</td>\n",
       "    </tr>\n",
       "    <tr>\n",
       "      <th>6</th>\n",
       "      <td>7</td>\n",
       "      <td>beverages</td>\n",
       "    </tr>\n",
       "    <tr>\n",
       "      <th>7</th>\n",
       "      <td>8</td>\n",
       "      <td>pets</td>\n",
       "    </tr>\n",
       "    <tr>\n",
       "      <th>8</th>\n",
       "      <td>9</td>\n",
       "      <td>dry goods pasta</td>\n",
       "    </tr>\n",
       "    <tr>\n",
       "      <th>9</th>\n",
       "      <td>10</td>\n",
       "      <td>bulk</td>\n",
       "    </tr>\n",
       "    <tr>\n",
       "      <th>10</th>\n",
       "      <td>11</td>\n",
       "      <td>personal care</td>\n",
       "    </tr>\n",
       "    <tr>\n",
       "      <th>11</th>\n",
       "      <td>12</td>\n",
       "      <td>meat seafood</td>\n",
       "    </tr>\n",
       "    <tr>\n",
       "      <th>12</th>\n",
       "      <td>13</td>\n",
       "      <td>pantry</td>\n",
       "    </tr>\n",
       "    <tr>\n",
       "      <th>13</th>\n",
       "      <td>14</td>\n",
       "      <td>breakfast</td>\n",
       "    </tr>\n",
       "    <tr>\n",
       "      <th>14</th>\n",
       "      <td>15</td>\n",
       "      <td>canned goods</td>\n",
       "    </tr>\n",
       "    <tr>\n",
       "      <th>15</th>\n",
       "      <td>16</td>\n",
       "      <td>dairy eggs</td>\n",
       "    </tr>\n",
       "    <tr>\n",
       "      <th>16</th>\n",
       "      <td>17</td>\n",
       "      <td>household</td>\n",
       "    </tr>\n",
       "    <tr>\n",
       "      <th>17</th>\n",
       "      <td>18</td>\n",
       "      <td>babies</td>\n",
       "    </tr>\n",
       "    <tr>\n",
       "      <th>18</th>\n",
       "      <td>19</td>\n",
       "      <td>snacks</td>\n",
       "    </tr>\n",
       "    <tr>\n",
       "      <th>19</th>\n",
       "      <td>20</td>\n",
       "      <td>deli</td>\n",
       "    </tr>\n",
       "    <tr>\n",
       "      <th>20</th>\n",
       "      <td>21</td>\n",
       "      <td>missing</td>\n",
       "    </tr>\n",
       "  </tbody>\n",
       "</table>\n",
       "</div>"
      ],
      "text/plain": [
       "    Unnamed: 0       department\n",
       "0            1           frozen\n",
       "1            2            other\n",
       "2            3           bakery\n",
       "3            4          produce\n",
       "4            5          alcohol\n",
       "5            6    international\n",
       "6            7        beverages\n",
       "7            8             pets\n",
       "8            9  dry goods pasta\n",
       "9           10             bulk\n",
       "10          11    personal care\n",
       "11          12     meat seafood\n",
       "12          13           pantry\n",
       "13          14        breakfast\n",
       "14          15     canned goods\n",
       "15          16       dairy eggs\n",
       "16          17        household\n",
       "17          18           babies\n",
       "18          19           snacks\n",
       "19          20             deli\n",
       "20          21          missing"
      ]
     },
     "execution_count": 55,
     "metadata": {},
     "output_type": "execute_result"
    }
   ],
   "source": [
    "departments"
   ]
  },
  {
   "cell_type": "code",
   "execution_count": 56,
   "id": "d5623f6c",
   "metadata": {},
   "outputs": [],
   "source": [
    "column_values_fam_status = ords_prods_cust['fam_status'].unique()"
   ]
  },
  {
   "cell_type": "code",
   "execution_count": 57,
   "id": "8ccae6ba",
   "metadata": {
    "scrolled": false
   },
   "outputs": [
    {
     "data": {
      "text/plain": [
       "array(['married', 'divorced/widowed', 'single',\n",
       "       'living with parents and siblings'], dtype=object)"
      ]
     },
     "execution_count": 57,
     "metadata": {},
     "output_type": "execute_result"
    }
   ],
   "source": [
    "column_values_fam_status"
   ]
  },
  {
   "cell_type": "markdown",
   "id": "ddbf4ee3",
   "metadata": {},
   "source": [
    "## Age categories"
   ]
  },
  {
   "cell_type": "code",
   "execution_count": 59,
   "id": "37819704",
   "metadata": {},
   "outputs": [],
   "source": [
    "ords_prods_cust.loc[(ords_prods_cust['age']>=18)&(ords_prods_cust['age']<=30),'age_category']='young'\n",
    "ords_prods_cust.loc[(ords_prods_cust['age']>=30)&(ords_prods_cust['age']<=39),'age_category']='young adult'\n",
    "ords_prods_cust.loc[(ords_prods_cust['age']>=40)&(ords_prods_cust['age']<=49),'age_category']='mid age'\n",
    "ords_prods_cust.loc[(ords_prods_cust['age']>=50)&(ords_prods_cust['age']<=59),'age_category']='adult'\n",
    "ords_prods_cust.loc[ords_prods_cust['age']>60,'age_category']='senior'"
   ]
  },
  {
   "cell_type": "markdown",
   "id": "33c37c80",
   "metadata": {},
   "source": [
    "## Income categories"
   ]
  },
  {
   "cell_type": "code",
   "execution_count": 62,
   "id": "fd7d9d9a",
   "metadata": {
    "scrolled": true
   },
   "outputs": [
    {
     "name": "stdout",
     "output_type": "stream",
     "text": [
      "Mínimo: 25903\n",
      "Máximo: 593901\n",
      "Media: 99437.73329450376\n"
     ]
    }
   ],
   "source": [
    "\n",
    "minimum = ords_prods_cust['income'].min()\n",
    "maximum = ords_prods_cust['income'].max()\n",
    "mean = ords_prods_cust['income'].mean()\n",
    "\n",
    "# Imprimir los resultados\n",
    "print(f\"Mínimo: {minimum}\")\n",
    "print(f\"Máximo: {maximum}\")\n",
    "print(f\"Media: {mean}\")"
   ]
  },
  {
   "cell_type": "code",
   "execution_count": 63,
   "id": "b101ddce",
   "metadata": {},
   "outputs": [],
   "source": [
    "# I will create categories as \"below\" and \"up\" to the mean"
   ]
  },
  {
   "cell_type": "code",
   "execution_count": 64,
   "id": "028b8aa6",
   "metadata": {},
   "outputs": [],
   "source": [
    "ords_prods_cust.loc[(ords_prods_cust['income']>=99437),'income_category']='above average'\n",
    "ords_prods_cust.loc[(ords_prods_cust['income']<99437),'income_category']='below average'"
   ]
  },
  {
   "cell_type": "code",
   "execution_count": 65,
   "id": "3bfbad70",
   "metadata": {
    "scrolled": false
   },
   "outputs": [
    {
     "data": {
      "text/plain": [
       "below average    17353064\n",
       "above average    15051795\n",
       "Name: income_category, dtype: int64"
      ]
     },
     "execution_count": 65,
     "metadata": {},
     "output_type": "execute_result"
    }
   ],
   "source": [
    "ords_prods_cust['income_category'].value_counts()"
   ]
  },
  {
   "cell_type": "markdown",
   "id": "dcb7a3ce",
   "metadata": {},
   "source": [
    "## Values goods categories"
   ]
  },
  {
   "cell_type": "markdown",
   "id": "dbf5ea0c",
   "metadata": {},
   "source": [
    "#  try thinking of what characteristics would lead you to the profile “Single adult” or “Young parent.”)"
   ]
  },
  {
   "cell_type": "code",
   "execution_count": 67,
   "id": "363b45fe",
   "metadata": {},
   "outputs": [],
   "source": [
    "# I will combine the age category with n_dependants"
   ]
  },
  {
   "cell_type": "code",
   "execution_count": 74,
   "id": "d6baa346",
   "metadata": {},
   "outputs": [],
   "source": [
    "ords_prods_cust.loc[(ords_prods_cust['age_category']==\"young\")&(ords_prods_cust['n_dependants']!=0),'marketing_category']='young parent'\n",
    "ords_prods_cust.loc[(ords_prods_cust['age_category']==\"young\")&(ords_prods_cust['n_dependants']==0),'marketing_category']='single young'\n",
    "ords_prods_cust.loc[(ords_prods_cust['age_category']!=\"young\")&(ords_prods_cust['n_dependants']==0),'marketing_category']='single adult'\n",
    "ords_prods_cust.loc[(ords_prods_cust['age_category']!=\"young\")&(ords_prods_cust['n_dependants']!=0),'marketing_category']='adult parent'"
   ]
  },
  {
   "cell_type": "code",
   "execution_count": 75,
   "id": "e6409fe6",
   "metadata": {
    "scrolled": true
   },
   "outputs": [
    {
     "data": {
      "text/plain": [
       "adult parent    19730145\n",
       "single adult     6584273\n",
       "young parent     4577211\n",
       "single young     1513230\n",
       "Name: marketing_category, dtype: int64"
      ]
     },
     "execution_count": 75,
     "metadata": {},
     "output_type": "execute_result"
    }
   ],
   "source": [
    "ords_prods_cust['marketing_category'].value_counts()"
   ]
  },
  {
   "cell_type": "markdown",
   "id": "9c72728e",
   "metadata": {},
   "source": [
    "## Visualizations"
   ]
  },
  {
   "cell_type": "markdown",
   "id": "a277da0b",
   "metadata": {},
   "source": [
    "# Key Questions"
   ]
  },
  {
   "cell_type": "code",
   "execution_count": 86,
   "id": "c5518cfa",
   "metadata": {},
   "outputs": [],
   "source": [
    "# The sales team needs to know what the busiest days of the week and hours of the day are \n",
    "# (i.e., the days and times with the most orders) in order to schedule ads at times when there are fewer orders."
   ]
  },
  {
   "cell_type": "code",
   "execution_count": 81,
   "id": "04b13496",
   "metadata": {
    "scrolled": true
   },
   "outputs": [
    {
     "data": {
      "image/png": "[encoded data removed]",
      "text/plain": [
       "<Figure size 640x480 with 1 Axes>"
      ]
     },
     "metadata": {},
     "output_type": "display_data"
    }
   ],
   "source": [
    "bar_DOW= ords_prods_cust['order_dow'].value_counts().sort_index().plot.bar()"
   ]
  },
  {
   "cell_type": "code",
   "execution_count": 82,
   "id": "af3e5dc6",
   "metadata": {},
   "outputs": [],
   "source": [
    "path2 = r'C:\\Users\\agarcia\\OneDrive - ITURRI S.A\\AGS\\Data Analytics Careerfoundy\\11-2022 Instacart Grocery Basket Analysis'"
   ]
  },
  {
   "cell_type": "code",
   "execution_count": 85,
   "id": "bca8093b",
   "metadata": {},
   "outputs": [],
   "source": [
    "bar_DOW.figure.savefig(os.path.join(path2, '04 Analysis', 'bar_orders_dow.png'))"
   ]
  },
  {
   "cell_type": "code",
   "execution_count": 87,
   "id": "977592dc",
   "metadata": {
    "scrolled": true
   },
   "outputs": [
    {
     "data": {
      "text/plain": [
       "<AxesSubplot:ylabel='Frequency'>"
      ]
     },
     "execution_count": 87,
     "metadata": {},
     "output_type": "execute_result"
    },
    {
     "data": {
      "image/png": "[encoded data removed]",
      "text/plain": [
       "<Figure size 640x480 with 1 Axes>"
      ]
     },
     "metadata": {},
     "output_type": "display_data"
    }
   ],
   "source": [
    "ords_prods_cust['order_hour_of_day'].plot.hist(bins=25)"
   ]
  },
  {
   "cell_type": "code",
   "execution_count": 88,
   "id": "0a03bdae",
   "metadata": {},
   "outputs": [],
   "source": [
    "# They also want to know whether there are particular times of the day when people spend\n",
    "# the most money, as this might inform the type of products they advertise at these times"
   ]
  },
  {
   "cell_type": "code",
   "execution_count": 89,
   "id": "d7cf34ef",
   "metadata": {},
   "outputs": [],
   "source": [
    "# Are there certain types of products that are more popular than others? The marketing\n",
    "# and sales teams want to know which departments have the highest frequency of product\n",
    "# orders."
   ]
  },
  {
   "cell_type": "code",
   "execution_count": 91,
   "id": "8acd05ec",
   "metadata": {
    "scrolled": false
   },
   "outputs": [
    {
     "data": {
      "image/png": "[encoded data removed]",
      "text/plain": [
       "<Figure size 640x480 with 1 Axes>"
      ]
     },
     "metadata": {},
     "output_type": "display_data"
    }
   ],
   "source": [
    "bar_dpt= ords_prods_cust['department_id'].value_counts().sort_index().plot.bar(color=['grey'])"
   ]
  },
  {
   "cell_type": "code",
   "execution_count": 94,
   "id": "89907841",
   "metadata": {},
   "outputs": [],
   "source": [
    "bar_dpt.figure.savefig(os.path.join(path2, '04 Analysis', 'bar_orders_dpt.png'))"
   ]
  },
  {
   "cell_type": "code",
   "execution_count": 92,
   "id": "e87f3bb0",
   "metadata": {},
   "outputs": [],
   "source": [
    "# Question about types of customers"
   ]
  },
  {
   "cell_type": "code",
   "execution_count": 93,
   "id": "40971e14",
   "metadata": {},
   "outputs": [],
   "source": [
    "#What’s the distribution among users in regards to their brand loyalty (i.e., how often do they return to Instacart)?\n",
    "#Are there differences in ordering habits based on a customer’s loyalty status?"
   ]
  },
  {
   "cell_type": "code",
   "execution_count": 96,
   "id": "b5cc54bd",
   "metadata": {
    "scrolled": true
   },
   "outputs": [
    {
     "data": {
      "image/png": "[encoded data removed]",
      "text/plain": [
       "<Figure size 640x480 with 1 Axes>"
      ]
     },
     "metadata": {},
     "output_type": "display_data"
    }
   ],
   "source": [
    "bar_loyalty= ords_prods_cust['frequent_customer_flag'].value_counts().sort_index().plot.bar(color=['#5F9EA0'])"
   ]
  },
  {
   "cell_type": "code",
   "execution_count": 97,
   "id": "26c40fe1",
   "metadata": {},
   "outputs": [],
   "source": [
    "bar_loyalty.figure.savefig(os.path.join(path2, '04 Analysis', 'bar_orders_loyalty.png'))"
   ]
  },
  {
   "cell_type": "code",
   "execution_count": 98,
   "id": "9d985265",
   "metadata": {},
   "outputs": [],
   "source": [
    "# Are there differences in ordering habits based on a customer’s region?"
   ]
  },
  {
   "cell_type": "code",
   "execution_count": 99,
   "id": "65d65a40",
   "metadata": {
    "scrolled": true
   },
   "outputs": [
    {
     "data": {
      "image/png": "[encoded data removed]",
      "text/plain": [
       "<Figure size 640x480 with 1 Axes>"
      ]
     },
     "metadata": {},
     "output_type": "display_data"
    }
   ],
   "source": [
    "bar_region= ords_prods_cust['regions'].value_counts().sort_index().plot.bar(color=['#FF7F50'])"
   ]
  },
  {
   "cell_type": "code",
   "execution_count": 101,
   "id": "0f95f103",
   "metadata": {},
   "outputs": [],
   "source": [
    "bar_region.figure.savefig(os.path.join(path2, '04 Analysis', 'bar_orders_regions.png'))"
   ]
  },
  {
   "cell_type": "code",
   "execution_count": 102,
   "id": "fc8838e8",
   "metadata": {},
   "outputs": [],
   "source": [
    "# Is there a connection between age and family status in terms of ordering habits?"
   ]
  },
  {
   "cell_type": "code",
   "execution_count": 103,
   "id": "69cb7b19",
   "metadata": {
    "scrolled": true
   },
   "outputs": [
    {
     "data": {
      "image/png": "[encoded data removed]",
      "text/plain": [
       "<Figure size 640x480 with 1 Axes>"
      ]
     },
     "metadata": {},
     "output_type": "display_data"
    }
   ],
   "source": [
    "bar_marketing= ords_prods_cust['marketing_category'].value_counts().sort_index().plot.bar(color=['#ADFF2F'])"
   ]
  },
  {
   "cell_type": "code",
   "execution_count": 104,
   "id": "0b19f607",
   "metadata": {},
   "outputs": [],
   "source": [
    "bar_marketing.figure.savefig(os.path.join(path2, '04 Analysis', 'bar_orders_marketing.png'))"
   ]
  },
  {
   "cell_type": "code",
   "execution_count": 105,
   "id": "adbac8d5",
   "metadata": {
    "scrolled": true
   },
   "outputs": [
    {
     "data": {
      "image/png": "[encoded data removed]",
      "text/plain": [
       "<Figure size 640x480 with 1 Axes>"
      ]
     },
     "metadata": {},
     "output_type": "display_data"
    }
   ],
   "source": [
    "bar_income= ords_prods_cust['income_category'].value_counts().sort_index().plot.bar(color=['#98FB98'])"
   ]
  },
  {
   "cell_type": "code",
   "execution_count": 106,
   "id": "9ce5c40e",
   "metadata": {},
   "outputs": [],
   "source": [
    "bar_income.figure.savefig(os.path.join(path2, '04 Analysis', 'bar_orders_income.png'))"
   ]
  },
  {
   "cell_type": "code",
   "execution_count": 108,
   "id": "b7811f02",
   "metadata": {},
   "outputs": [
    {
     "data": {
      "text/plain": [
       "<AxesSubplot:xlabel='income', ylabel='age'>"
      ]
     },
     "execution_count": 108,
     "metadata": {},
     "output_type": "execute_result"
    },
    {
     "data": {
      "image/png": "[encoded data removed]",
      "text/plain": [
       "<Figure size 640x480 with 1 Axes>"
      ]
     },
     "metadata": {},
     "output_type": "display_data"
    }
   ],
   "source": [
    "# bringing here the scatterplot by age\n",
    "\n",
    "sns.scatterplot(x = 'income', y = 'age',data = ords_prods_cust)\n"
   ]
  },
  {
   "cell_type": "markdown",
   "id": "bbc92c59",
   "metadata": {},
   "source": [
    "## Others queries, visualizations and combinations "
   ]
  },
  {
   "cell_type": "code",
   "execution_count": 109,
   "id": "c0bf8615",
   "metadata": {},
   "outputs": [],
   "source": [
    "crosstab = pd.crosstab(ords_prods_cust['prices'], ords_prods_cust['product_id'], dropna = False)"
   ]
  },
  {
   "cell_type": "code",
   "execution_count": 110,
   "id": "08d90b89",
   "metadata": {
    "scrolled": true
   },
   "outputs": [
    {
     "data": {
      "text/html": [
       "<div>\n",
       "<style scoped>\n",
       "    .dataframe tbody tr th:only-of-type {\n",
       "        vertical-align: middle;\n",
       "    }\n",
       "\n",
       "    .dataframe tbody tr th {\n",
       "        vertical-align: top;\n",
       "    }\n",
       "\n",
       "    .dataframe thead th {\n",
       "        text-align: right;\n",
       "    }\n",
       "</style>\n",
       "<table border=\"1\" class=\"dataframe\">\n",
       "  <thead>\n",
       "    <tr style=\"text-align: right;\">\n",
       "      <th>product_id</th>\n",
       "      <th>1</th>\n",
       "      <th>2</th>\n",
       "      <th>3</th>\n",
       "      <th>4</th>\n",
       "      <th>5</th>\n",
       "      <th>6</th>\n",
       "      <th>7</th>\n",
       "      <th>8</th>\n",
       "      <th>9</th>\n",
       "      <th>10</th>\n",
       "      <th>...</th>\n",
       "      <th>49679</th>\n",
       "      <th>49680</th>\n",
       "      <th>49681</th>\n",
       "      <th>49682</th>\n",
       "      <th>49683</th>\n",
       "      <th>49684</th>\n",
       "      <th>49685</th>\n",
       "      <th>49686</th>\n",
       "      <th>49687</th>\n",
       "      <th>49688</th>\n",
       "    </tr>\n",
       "    <tr>\n",
       "      <th>prices</th>\n",
       "      <th></th>\n",
       "      <th></th>\n",
       "      <th></th>\n",
       "      <th></th>\n",
       "      <th></th>\n",
       "      <th></th>\n",
       "      <th></th>\n",
       "      <th></th>\n",
       "      <th></th>\n",
       "      <th></th>\n",
       "      <th></th>\n",
       "      <th></th>\n",
       "      <th></th>\n",
       "      <th></th>\n",
       "      <th></th>\n",
       "      <th></th>\n",
       "      <th></th>\n",
       "      <th></th>\n",
       "      <th></th>\n",
       "      <th></th>\n",
       "      <th></th>\n",
       "    </tr>\n",
       "  </thead>\n",
       "  <tbody>\n",
       "    <tr>\n",
       "      <th>1.0</th>\n",
       "      <td>0</td>\n",
       "      <td>0</td>\n",
       "      <td>0</td>\n",
       "      <td>0</td>\n",
       "      <td>0</td>\n",
       "      <td>0</td>\n",
       "      <td>0</td>\n",
       "      <td>0</td>\n",
       "      <td>0</td>\n",
       "      <td>0</td>\n",
       "      <td>...</td>\n",
       "      <td>0</td>\n",
       "      <td>0</td>\n",
       "      <td>0</td>\n",
       "      <td>0</td>\n",
       "      <td>0</td>\n",
       "      <td>0</td>\n",
       "      <td>0</td>\n",
       "      <td>0</td>\n",
       "      <td>0</td>\n",
       "      <td>0</td>\n",
       "    </tr>\n",
       "    <tr>\n",
       "      <th>1.1</th>\n",
       "      <td>0</td>\n",
       "      <td>0</td>\n",
       "      <td>0</td>\n",
       "      <td>0</td>\n",
       "      <td>0</td>\n",
       "      <td>0</td>\n",
       "      <td>0</td>\n",
       "      <td>165</td>\n",
       "      <td>0</td>\n",
       "      <td>0</td>\n",
       "      <td>...</td>\n",
       "      <td>0</td>\n",
       "      <td>0</td>\n",
       "      <td>0</td>\n",
       "      <td>0</td>\n",
       "      <td>0</td>\n",
       "      <td>0</td>\n",
       "      <td>0</td>\n",
       "      <td>0</td>\n",
       "      <td>0</td>\n",
       "      <td>0</td>\n",
       "    </tr>\n",
       "    <tr>\n",
       "      <th>1.2</th>\n",
       "      <td>0</td>\n",
       "      <td>0</td>\n",
       "      <td>0</td>\n",
       "      <td>0</td>\n",
       "      <td>0</td>\n",
       "      <td>0</td>\n",
       "      <td>0</td>\n",
       "      <td>0</td>\n",
       "      <td>0</td>\n",
       "      <td>0</td>\n",
       "      <td>...</td>\n",
       "      <td>0</td>\n",
       "      <td>0</td>\n",
       "      <td>0</td>\n",
       "      <td>0</td>\n",
       "      <td>0</td>\n",
       "      <td>0</td>\n",
       "      <td>0</td>\n",
       "      <td>0</td>\n",
       "      <td>0</td>\n",
       "      <td>0</td>\n",
       "    </tr>\n",
       "    <tr>\n",
       "      <th>1.3</th>\n",
       "      <td>0</td>\n",
       "      <td>0</td>\n",
       "      <td>0</td>\n",
       "      <td>0</td>\n",
       "      <td>0</td>\n",
       "      <td>0</td>\n",
       "      <td>0</td>\n",
       "      <td>0</td>\n",
       "      <td>0</td>\n",
       "      <td>0</td>\n",
       "      <td>...</td>\n",
       "      <td>0</td>\n",
       "      <td>0</td>\n",
       "      <td>0</td>\n",
       "      <td>0</td>\n",
       "      <td>0</td>\n",
       "      <td>0</td>\n",
       "      <td>0</td>\n",
       "      <td>0</td>\n",
       "      <td>0</td>\n",
       "      <td>0</td>\n",
       "    </tr>\n",
       "    <tr>\n",
       "      <th>1.4</th>\n",
       "      <td>0</td>\n",
       "      <td>0</td>\n",
       "      <td>0</td>\n",
       "      <td>0</td>\n",
       "      <td>0</td>\n",
       "      <td>0</td>\n",
       "      <td>0</td>\n",
       "      <td>0</td>\n",
       "      <td>0</td>\n",
       "      <td>0</td>\n",
       "      <td>...</td>\n",
       "      <td>0</td>\n",
       "      <td>0</td>\n",
       "      <td>0</td>\n",
       "      <td>0</td>\n",
       "      <td>0</td>\n",
       "      <td>0</td>\n",
       "      <td>0</td>\n",
       "      <td>0</td>\n",
       "      <td>0</td>\n",
       "      <td>0</td>\n",
       "    </tr>\n",
       "    <tr>\n",
       "      <th>...</th>\n",
       "      <td>...</td>\n",
       "      <td>...</td>\n",
       "      <td>...</td>\n",
       "      <td>...</td>\n",
       "      <td>...</td>\n",
       "      <td>...</td>\n",
       "      <td>...</td>\n",
       "      <td>...</td>\n",
       "      <td>...</td>\n",
       "      <td>...</td>\n",
       "      <td>...</td>\n",
       "      <td>...</td>\n",
       "      <td>...</td>\n",
       "      <td>...</td>\n",
       "      <td>...</td>\n",
       "      <td>...</td>\n",
       "      <td>...</td>\n",
       "      <td>...</td>\n",
       "      <td>...</td>\n",
       "      <td>...</td>\n",
       "      <td>...</td>\n",
       "    </tr>\n",
       "    <tr>\n",
       "      <th>24.8</th>\n",
       "      <td>0</td>\n",
       "      <td>0</td>\n",
       "      <td>0</td>\n",
       "      <td>0</td>\n",
       "      <td>0</td>\n",
       "      <td>0</td>\n",
       "      <td>0</td>\n",
       "      <td>0</td>\n",
       "      <td>0</td>\n",
       "      <td>0</td>\n",
       "      <td>...</td>\n",
       "      <td>0</td>\n",
       "      <td>0</td>\n",
       "      <td>0</td>\n",
       "      <td>0</td>\n",
       "      <td>0</td>\n",
       "      <td>0</td>\n",
       "      <td>0</td>\n",
       "      <td>0</td>\n",
       "      <td>0</td>\n",
       "      <td>0</td>\n",
       "    </tr>\n",
       "    <tr>\n",
       "      <th>24.9</th>\n",
       "      <td>0</td>\n",
       "      <td>0</td>\n",
       "      <td>0</td>\n",
       "      <td>0</td>\n",
       "      <td>0</td>\n",
       "      <td>0</td>\n",
       "      <td>0</td>\n",
       "      <td>0</td>\n",
       "      <td>0</td>\n",
       "      <td>0</td>\n",
       "      <td>...</td>\n",
       "      <td>0</td>\n",
       "      <td>0</td>\n",
       "      <td>0</td>\n",
       "      <td>0</td>\n",
       "      <td>0</td>\n",
       "      <td>0</td>\n",
       "      <td>0</td>\n",
       "      <td>0</td>\n",
       "      <td>0</td>\n",
       "      <td>0</td>\n",
       "    </tr>\n",
       "    <tr>\n",
       "      <th>25.0</th>\n",
       "      <td>0</td>\n",
       "      <td>0</td>\n",
       "      <td>0</td>\n",
       "      <td>0</td>\n",
       "      <td>0</td>\n",
       "      <td>0</td>\n",
       "      <td>0</td>\n",
       "      <td>0</td>\n",
       "      <td>0</td>\n",
       "      <td>0</td>\n",
       "      <td>...</td>\n",
       "      <td>0</td>\n",
       "      <td>0</td>\n",
       "      <td>0</td>\n",
       "      <td>0</td>\n",
       "      <td>0</td>\n",
       "      <td>0</td>\n",
       "      <td>0</td>\n",
       "      <td>0</td>\n",
       "      <td>0</td>\n",
       "      <td>0</td>\n",
       "    </tr>\n",
       "    <tr>\n",
       "      <th>14900.0</th>\n",
       "      <td>0</td>\n",
       "      <td>0</td>\n",
       "      <td>0</td>\n",
       "      <td>0</td>\n",
       "      <td>0</td>\n",
       "      <td>0</td>\n",
       "      <td>0</td>\n",
       "      <td>0</td>\n",
       "      <td>0</td>\n",
       "      <td>0</td>\n",
       "      <td>...</td>\n",
       "      <td>0</td>\n",
       "      <td>0</td>\n",
       "      <td>0</td>\n",
       "      <td>0</td>\n",
       "      <td>0</td>\n",
       "      <td>0</td>\n",
       "      <td>0</td>\n",
       "      <td>0</td>\n",
       "      <td>0</td>\n",
       "      <td>0</td>\n",
       "    </tr>\n",
       "    <tr>\n",
       "      <th>99999.0</th>\n",
       "      <td>0</td>\n",
       "      <td>0</td>\n",
       "      <td>0</td>\n",
       "      <td>0</td>\n",
       "      <td>0</td>\n",
       "      <td>0</td>\n",
       "      <td>0</td>\n",
       "      <td>0</td>\n",
       "      <td>0</td>\n",
       "      <td>0</td>\n",
       "      <td>...</td>\n",
       "      <td>0</td>\n",
       "      <td>0</td>\n",
       "      <td>0</td>\n",
       "      <td>0</td>\n",
       "      <td>0</td>\n",
       "      <td>0</td>\n",
       "      <td>0</td>\n",
       "      <td>0</td>\n",
       "      <td>0</td>\n",
       "      <td>0</td>\n",
       "    </tr>\n",
       "  </tbody>\n",
       "</table>\n",
       "<p>242 rows × 49659 columns</p>\n",
       "</div>"
      ],
      "text/plain": [
       "product_id  1      2      3      4      5      6      7      8      9      \\\n",
       "prices                                                                      \n",
       "1.0             0      0      0      0      0      0      0      0      0   \n",
       "1.1             0      0      0      0      0      0      0    165      0   \n",
       "1.2             0      0      0      0      0      0      0      0      0   \n",
       "1.3             0      0      0      0      0      0      0      0      0   \n",
       "1.4             0      0      0      0      0      0      0      0      0   \n",
       "...           ...    ...    ...    ...    ...    ...    ...    ...    ...   \n",
       "24.8            0      0      0      0      0      0      0      0      0   \n",
       "24.9            0      0      0      0      0      0      0      0      0   \n",
       "25.0            0      0      0      0      0      0      0      0      0   \n",
       "14900.0         0      0      0      0      0      0      0      0      0   \n",
       "99999.0         0      0      0      0      0      0      0      0      0   \n",
       "\n",
       "product_id  10     ...  49679  49680  49681  49682  49683  49684  49685  \\\n",
       "prices             ...                                                    \n",
       "1.0             0  ...      0      0      0      0      0      0      0   \n",
       "1.1             0  ...      0      0      0      0      0      0      0   \n",
       "1.2             0  ...      0      0      0      0      0      0      0   \n",
       "1.3             0  ...      0      0      0      0      0      0      0   \n",
       "1.4             0  ...      0      0      0      0      0      0      0   \n",
       "...           ...  ...    ...    ...    ...    ...    ...    ...    ...   \n",
       "24.8            0  ...      0      0      0      0      0      0      0   \n",
       "24.9            0  ...      0      0      0      0      0      0      0   \n",
       "25.0            0  ...      0      0      0      0      0      0      0   \n",
       "14900.0         0  ...      0      0      0      0      0      0      0   \n",
       "99999.0         0  ...      0      0      0      0      0      0      0   \n",
       "\n",
       "product_id  49686  49687  49688  \n",
       "prices                           \n",
       "1.0             0      0      0  \n",
       "1.1             0      0      0  \n",
       "1.2             0      0      0  \n",
       "1.3             0      0      0  \n",
       "1.4             0      0      0  \n",
       "...           ...    ...    ...  \n",
       "24.8            0      0      0  \n",
       "24.9            0      0      0  \n",
       "25.0            0      0      0  \n",
       "14900.0         0      0      0  \n",
       "99999.0         0      0      0  \n",
       "\n",
       "[242 rows x 49659 columns]"
      ]
     },
     "execution_count": 110,
     "metadata": {},
     "output_type": "execute_result"
    }
   ],
   "source": [
    "crosstab"
   ]
  },
  {
   "cell_type": "code",
   "execution_count": 111,
   "id": "712512a8",
   "metadata": {},
   "outputs": [],
   "source": [
    "grouped_data = ords_prods_cust.groupby('department_id')"
   ]
  },
  {
   "cell_type": "code",
   "execution_count": 112,
   "id": "be656152",
   "metadata": {},
   "outputs": [],
   "source": [
    "aggregated_data = grouped_data.agg({'prices': ['mean', 'max', 'min']})\n"
   ]
  },
  {
   "cell_type": "code",
   "execution_count": 113,
   "id": "5d4440e1",
   "metadata": {
    "scrolled": false
   },
   "outputs": [
    {
     "data": {
      "text/html": [
       "<div>\n",
       "<style scoped>\n",
       "    .dataframe tbody tr th:only-of-type {\n",
       "        vertical-align: middle;\n",
       "    }\n",
       "\n",
       "    .dataframe tbody tr th {\n",
       "        vertical-align: top;\n",
       "    }\n",
       "\n",
       "    .dataframe thead tr th {\n",
       "        text-align: left;\n",
       "    }\n",
       "\n",
       "    .dataframe thead tr:last-of-type th {\n",
       "        text-align: right;\n",
       "    }\n",
       "</style>\n",
       "<table border=\"1\" class=\"dataframe\">\n",
       "  <thead>\n",
       "    <tr>\n",
       "      <th></th>\n",
       "      <th colspan=\"3\" halign=\"left\">prices</th>\n",
       "    </tr>\n",
       "    <tr>\n",
       "      <th></th>\n",
       "      <th>mean</th>\n",
       "      <th>max</th>\n",
       "      <th>min</th>\n",
       "    </tr>\n",
       "    <tr>\n",
       "      <th>department_id</th>\n",
       "      <th></th>\n",
       "      <th></th>\n",
       "      <th></th>\n",
       "    </tr>\n",
       "  </thead>\n",
       "  <tbody>\n",
       "    <tr>\n",
       "      <th>1</th>\n",
       "      <td>7.736553</td>\n",
       "      <td>15.0</td>\n",
       "      <td>1.0</td>\n",
       "    </tr>\n",
       "    <tr>\n",
       "      <th>2</th>\n",
       "      <td>6.990934</td>\n",
       "      <td>15.0</td>\n",
       "      <td>1.1</td>\n",
       "    </tr>\n",
       "    <tr>\n",
       "      <th>3</th>\n",
       "      <td>7.853809</td>\n",
       "      <td>15.0</td>\n",
       "      <td>1.0</td>\n",
       "    </tr>\n",
       "    <tr>\n",
       "      <th>4</th>\n",
       "      <td>7.981708</td>\n",
       "      <td>15.0</td>\n",
       "      <td>1.0</td>\n",
       "    </tr>\n",
       "    <tr>\n",
       "      <th>5</th>\n",
       "      <td>8.143701</td>\n",
       "      <td>15.0</td>\n",
       "      <td>1.0</td>\n",
       "    </tr>\n",
       "    <tr>\n",
       "      <th>6</th>\n",
       "      <td>7.682264</td>\n",
       "      <td>15.0</td>\n",
       "      <td>1.0</td>\n",
       "    </tr>\n",
       "    <tr>\n",
       "      <th>7</th>\n",
       "      <td>7.680502</td>\n",
       "      <td>15.0</td>\n",
       "      <td>1.0</td>\n",
       "    </tr>\n",
       "    <tr>\n",
       "      <th>8</th>\n",
       "      <td>7.889070</td>\n",
       "      <td>15.0</td>\n",
       "      <td>1.0</td>\n",
       "    </tr>\n",
       "    <tr>\n",
       "      <th>9</th>\n",
       "      <td>7.350283</td>\n",
       "      <td>15.0</td>\n",
       "      <td>1.0</td>\n",
       "    </tr>\n",
       "    <tr>\n",
       "      <th>10</th>\n",
       "      <td>8.348960</td>\n",
       "      <td>14.1</td>\n",
       "      <td>1.4</td>\n",
       "    </tr>\n",
       "    <tr>\n",
       "      <th>11</th>\n",
       "      <td>7.996769</td>\n",
       "      <td>15.0</td>\n",
       "      <td>1.0</td>\n",
       "    </tr>\n",
       "    <tr>\n",
       "      <th>12</th>\n",
       "      <td>16.294443</td>\n",
       "      <td>25.0</td>\n",
       "      <td>8.0</td>\n",
       "    </tr>\n",
       "    <tr>\n",
       "      <th>13</th>\n",
       "      <td>8.009443</td>\n",
       "      <td>20.0</td>\n",
       "      <td>1.0</td>\n",
       "    </tr>\n",
       "    <tr>\n",
       "      <th>14</th>\n",
       "      <td>8.028963</td>\n",
       "      <td>14.9</td>\n",
       "      <td>1.0</td>\n",
       "    </tr>\n",
       "    <tr>\n",
       "      <th>15</th>\n",
       "      <td>7.539976</td>\n",
       "      <td>15.0</td>\n",
       "      <td>1.0</td>\n",
       "    </tr>\n",
       "    <tr>\n",
       "      <th>16</th>\n",
       "      <td>33.479533</td>\n",
       "      <td>99999.0</td>\n",
       "      <td>1.0</td>\n",
       "    </tr>\n",
       "    <tr>\n",
       "      <th>17</th>\n",
       "      <td>7.384058</td>\n",
       "      <td>15.0</td>\n",
       "      <td>1.0</td>\n",
       "    </tr>\n",
       "    <tr>\n",
       "      <th>18</th>\n",
       "      <td>7.638380</td>\n",
       "      <td>15.0</td>\n",
       "      <td>1.0</td>\n",
       "    </tr>\n",
       "    <tr>\n",
       "      <th>19</th>\n",
       "      <td>4.275437</td>\n",
       "      <td>7.0</td>\n",
       "      <td>1.6</td>\n",
       "    </tr>\n",
       "    <tr>\n",
       "      <th>20</th>\n",
       "      <td>7.778701</td>\n",
       "      <td>15.0</td>\n",
       "      <td>1.0</td>\n",
       "    </tr>\n",
       "    <tr>\n",
       "      <th>21</th>\n",
       "      <td>8.660716</td>\n",
       "      <td>15.0</td>\n",
       "      <td>1.0</td>\n",
       "    </tr>\n",
       "  </tbody>\n",
       "</table>\n",
       "</div>"
      ],
      "text/plain": [
       "                  prices              \n",
       "                    mean      max  min\n",
       "department_id                         \n",
       "1               7.736553     15.0  1.0\n",
       "2               6.990934     15.0  1.1\n",
       "3               7.853809     15.0  1.0\n",
       "4               7.981708     15.0  1.0\n",
       "5               8.143701     15.0  1.0\n",
       "6               7.682264     15.0  1.0\n",
       "7               7.680502     15.0  1.0\n",
       "8               7.889070     15.0  1.0\n",
       "9               7.350283     15.0  1.0\n",
       "10              8.348960     14.1  1.4\n",
       "11              7.996769     15.0  1.0\n",
       "12             16.294443     25.0  8.0\n",
       "13              8.009443     20.0  1.0\n",
       "14              8.028963     14.9  1.0\n",
       "15              7.539976     15.0  1.0\n",
       "16             33.479533  99999.0  1.0\n",
       "17              7.384058     15.0  1.0\n",
       "18              7.638380     15.0  1.0\n",
       "19              4.275437      7.0  1.6\n",
       "20              7.778701     15.0  1.0\n",
       "21              8.660716     15.0  1.0"
      ]
     },
     "execution_count": 113,
     "metadata": {},
     "output_type": "execute_result"
    }
   ],
   "source": [
    "aggregated_data"
   ]
  },
  {
   "cell_type": "code",
   "execution_count": 116,
   "id": "30d42418",
   "metadata": {
    "scrolled": true
   },
   "outputs": [
    {
     "data": {
      "text/plain": [
       "<bound method NDFrame.to_clipboard of                   prices              \n",
       "                    mean      max  min\n",
       "department_id                         \n",
       "1               7.736553     15.0  1.0\n",
       "2               6.990934     15.0  1.1\n",
       "3               7.853809     15.0  1.0\n",
       "4               7.981708     15.0  1.0\n",
       "5               8.143701     15.0  1.0\n",
       "6               7.682264     15.0  1.0\n",
       "7               7.680502     15.0  1.0\n",
       "8               7.889070     15.0  1.0\n",
       "9               7.350283     15.0  1.0\n",
       "10              8.348960     14.1  1.4\n",
       "11              7.996769     15.0  1.0\n",
       "12             16.294443     25.0  8.0\n",
       "13              8.009443     20.0  1.0\n",
       "14              8.028963     14.9  1.0\n",
       "15              7.539976     15.0  1.0\n",
       "16             33.479533  99999.0  1.0\n",
       "17              7.384058     15.0  1.0\n",
       "18              7.638380     15.0  1.0\n",
       "19              4.275437      7.0  1.6\n",
       "20              7.778701     15.0  1.0\n",
       "21              8.660716     15.0  1.0>"
      ]
     },
     "execution_count": 116,
     "metadata": {},
     "output_type": "execute_result"
    }
   ],
   "source": [
    "aggregated_data.to_clipboard"
   ]
  },
  {
   "cell_type": "code",
   "execution_count": 123,
   "id": "12ea8626",
   "metadata": {},
   "outputs": [],
   "source": [
    "crosstab_lol_price = pd.crosstab(ords_prods_cust['spending_flag'], ords_prods_cust['loyalty_flag'], dropna = False)"
   ]
  },
  {
   "cell_type": "code",
   "execution_count": 124,
   "id": "c228d63b",
   "metadata": {
    "scrolled": true
   },
   "outputs": [
    {
     "data": {
      "text/html": [
       "<div>\n",
       "<style scoped>\n",
       "    .dataframe tbody tr th:only-of-type {\n",
       "        vertical-align: middle;\n",
       "    }\n",
       "\n",
       "    .dataframe tbody tr th {\n",
       "        vertical-align: top;\n",
       "    }\n",
       "\n",
       "    .dataframe thead th {\n",
       "        text-align: right;\n",
       "    }\n",
       "</style>\n",
       "<table border=\"1\" class=\"dataframe\">\n",
       "  <thead>\n",
       "    <tr style=\"text-align: right;\">\n",
       "      <th>loyalty_flag</th>\n",
       "      <th>Loyal customer</th>\n",
       "      <th>New customer</th>\n",
       "      <th>Regular customer</th>\n",
       "    </tr>\n",
       "    <tr>\n",
       "      <th>spending_flag</th>\n",
       "      <th></th>\n",
       "      <th></th>\n",
       "      <th></th>\n",
       "    </tr>\n",
       "  </thead>\n",
       "  <tbody>\n",
       "    <tr>\n",
       "      <th>High spender</th>\n",
       "      <td>38654</td>\n",
       "      <td>26119</td>\n",
       "      <td>63069</td>\n",
       "    </tr>\n",
       "    <tr>\n",
       "      <th>Low spender</th>\n",
       "      <td>10245439</td>\n",
       "      <td>6217871</td>\n",
       "      <td>15813707</td>\n",
       "    </tr>\n",
       "  </tbody>\n",
       "</table>\n",
       "</div>"
      ],
      "text/plain": [
       "loyalty_flag   Loyal customer  New customer  Regular customer\n",
       "spending_flag                                                \n",
       "High spender            38654         26119             63069\n",
       "Low spender          10245439       6217871          15813707"
      ]
     },
     "execution_count": 124,
     "metadata": {},
     "output_type": "execute_result"
    }
   ],
   "source": [
    "crosstab_lol_price"
   ]
  },
  {
   "cell_type": "code",
   "execution_count": 125,
   "id": "cd2166d0",
   "metadata": {},
   "outputs": [],
   "source": [
    "crosstab_lol_price.to_clipboard()"
   ]
  }
 ],
 "metadata": {
  "kernelspec": {
   "display_name": "Python 3 (ipykernel)",
   "language": "python",
   "name": "python3"
  },
  "language_info": {
   "codemirror_mode": {
    "name": "ipython",
    "version": 3
   },
   "file_extension": ".py",
   "mimetype": "text/x-python",
   "name": "python",
   "nbconvert_exporter": "python",
   "pygments_lexer": "ipython3",
   "version": "3.9.13"
  }
 },
 "nbformat": 4,
 "nbformat_minor": 5
}
